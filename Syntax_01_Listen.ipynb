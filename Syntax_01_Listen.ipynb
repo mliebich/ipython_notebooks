{
 "cells": [
  {
   "cell_type": "markdown",
   "metadata": {},
   "source": [
    "# Syntax 1: Listen"
   ]
  },
  {
   "cell_type": "code",
   "execution_count": 29,
   "metadata": {
    "collapsed": true
   },
   "outputs": [],
   "source": [
    "# Eine Liste erstellen\n",
    "liste = [1, 'a', 3]"
   ]
  },
  {
   "cell_type": "code",
   "execution_count": 30,
   "metadata": {
    "collapsed": false
   },
   "outputs": [
    {
     "name": "stdout",
     "output_type": "stream",
     "text": [
      "[0, 1, 2, 3, 4, 5, 6, 7, 8, 9, 10]\n"
     ]
    }
   ],
   "source": [
    "# Eine Liste über einen Zahlen-Range von 1 bis 10 erzeugen \n",
    "list = (range(11))\n",
    "print list"
   ]
  },
  {
   "cell_type": "code",
   "execution_count": 51,
   "metadata": {
    "collapsed": false
   },
   "outputs": [
    {
     "name": "stdout",
     "output_type": "stream",
     "text": [
      "0\n",
      "1\n",
      "4\n",
      "9\n",
      "16\n"
     ]
    }
   ],
   "source": [
    "# Die Liste durchgehen und ausgeben\n",
    "for i in list:\n",
    "    print i"
   ]
  },
  {
   "cell_type": "code",
   "execution_count": 32,
   "metadata": {
    "collapsed": false
   },
   "outputs": [
    {
     "name": "stdout",
     "output_type": "stream",
     "text": [
      "0\n"
     ]
    }
   ],
   "source": [
    "# Einzelnes Listenelement ausgeben [] gibt den Index des Elements an. Das erste Element hat den index 0.\n",
    "print list[0]"
   ]
  },
  {
   "cell_type": "code",
   "execution_count": 33,
   "metadata": {
    "collapsed": false
   },
   "outputs": [
    {
     "name": "stdout",
     "output_type": "stream",
     "text": [
      "[0, 1, 4, 9, 16]\n"
     ]
    }
   ],
   "source": [
    "# List comprehension: In eckigen Klammern wird eine Funktion geschrieben, die die Inhalte der Liste erzeugt.\n",
    "list = [x**2 for x in range(5)]\n",
    "print list"
   ]
  },
  {
   "cell_type": "code",
   "execution_count": 34,
   "metadata": {
    "collapsed": false
   },
   "outputs": [
    {
     "name": "stdout",
     "output_type": "stream",
     "text": [
      "['chemistry']\n"
     ]
    }
   ],
   "source": [
    "# Schnittmenge von zwei Listen finden und ausgeben\n",
    "list_a = ['chemistry', 'hydrocarbon', 4]\n",
    "list_b = ['complexity', 'computer', 'chemistry']\n",
    "list_c = [i for i in list_a if i in list_b]\n",
    "print list_c"
   ]
  },
  {
   "cell_type": "code",
   "execution_count": 35,
   "metadata": {
    "collapsed": false
   },
   "outputs": [
    {
     "name": "stdout",
     "output_type": "stream",
     "text": [
      "['chemistry', 'hydrocarbon']\n"
     ]
    }
   ],
   "source": [
    "# Ausgeben eines Teils einer Liste\n",
    "print list_a[0:2]"
   ]
  },
  {
   "cell_type": "code",
   "execution_count": 36,
   "metadata": {
    "collapsed": false
   },
   "outputs": [
    {
     "name": "stdout",
     "output_type": "stream",
     "text": [
      "['hallo', 'welt', 4]\n"
     ]
    }
   ],
   "source": [
    "# Verändern eines Teils einer Liste\n",
    "list_a[0:2] = ['hallo', 'welt']\n",
    "print list_a"
   ]
  },
  {
   "cell_type": "code",
   "execution_count": 39,
   "metadata": {
    "collapsed": false
   },
   "outputs": [
    {
     "name": "stdout",
     "output_type": "stream",
     "text": [
      "2\n"
     ]
    }
   ],
   "source": [
    "# Suchen eines Werts x (hier 4) in einer Liste\n",
    "print list_a.index(4)"
   ]
  },
  {
   "cell_type": "code",
   "execution_count": 41,
   "metadata": {
    "collapsed": false
   },
   "outputs": [
    {
     "name": "stdout",
     "output_type": "stream",
     "text": [
      "[4, 'hallo', 'welt']\n"
     ]
    }
   ],
   "source": [
    "# Sortieren von Listen\n",
    "list_a.sort()\n",
    "print list_a"
   ]
  },
  {
   "cell_type": "code",
   "execution_count": 45,
   "metadata": {
    "collapsed": false
   },
   "outputs": [
    {
     "name": "stdout",
     "output_type": "stream",
     "text": [
      "['HALLO', 'WELT', 'APFEL']\n"
     ]
    }
   ],
   "source": [
    "# Elemente gross schreiben mit map()-Funktion. map() wendet eine Funktion auf etwas an, in diesem Fall auf list_d\n",
    "list_d = ['hallo', 'welt', 'apfel']\n",
    "s = map(str.upper, list_d)\n",
    "print s"
   ]
  },
  {
   "cell_type": "code",
   "execution_count": 49,
   "metadata": {
    "collapsed": false
   },
   "outputs": [
    {
     "name": "stdout",
     "output_type": "stream",
     "text": [
      "['HALLO', 'WELT', 'APFEL']\n"
     ]
    }
   ],
   "source": [
    "# Dasselbe, einfach noch schneller, mit list comprehensions\n",
    "print [i.upper() for i in list_d]"
   ]
  },
  {
   "cell_type": "code",
   "execution_count": 52,
   "metadata": {
    "collapsed": false
   },
   "outputs": [
    {
     "name": "stdout",
     "output_type": "stream",
     "text": [
      "[(4, 'complexity'), ('hallo', 'computer'), ('welt', 'chemistry')]\n"
     ]
    }
   ],
   "source": [
    "# Es existieren bereits viele Standardfunktionen für Listen-Operationen\n",
    "# Zwei Listen 'zippen'\n",
    "print zip(list_a, list_b)"
   ]
  }
 ],
 "metadata": {
  "kernelspec": {
   "display_name": "Python 2",
   "language": "python",
   "name": "python2"
  },
  "language_info": {
   "codemirror_mode": {
    "name": "ipython",
    "version": 2
   },
   "file_extension": ".py",
   "mimetype": "text/x-python",
   "name": "python",
   "nbconvert_exporter": "python",
   "pygments_lexer": "ipython2",
   "version": "2.7.3"
  }
 },
 "nbformat": 4,
 "nbformat_minor": 0
}
